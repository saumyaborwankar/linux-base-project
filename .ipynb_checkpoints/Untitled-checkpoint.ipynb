{
 "cells": [
  {
   "cell_type": "code",
   "execution_count": 2,
   "metadata": {},
   "outputs": [
    {
     "ename": "ModuleNotFoundError",
     "evalue": "No module named 'cv2'",
     "output_type": "error",
     "traceback": [
      "\u001b[1;31m---------------------------------------------------------------------------\u001b[0m",
      "\u001b[1;31mModuleNotFoundError\u001b[0m                       Traceback (most recent call last)",
      "\u001b[1;32m<ipython-input-2-cb53845ddadc>\u001b[0m in \u001b[0;36m<module>\u001b[1;34m()\u001b[0m\n\u001b[0;32m      1\u001b[0m \u001b[1;31m#image processing with scikit learn 2nd jan\u001b[0m\u001b[1;33m\u001b[0m\u001b[1;33m\u001b[0m\u001b[0m\n\u001b[1;32m----> 2\u001b[1;33m \u001b[1;32mimport\u001b[0m \u001b[0mcv2\u001b[0m\u001b[1;33m\u001b[0m\u001b[0m\n\u001b[0m\u001b[0;32m      3\u001b[0m \u001b[0mx\u001b[0m\u001b[1;33m=\u001b[0m\u001b[0mcv2\u001b[0m\u001b[1;33m.\u001b[0m\u001b[0mcapture\u001b[0m\u001b[1;33m(\u001b[0m\u001b[1;36m0\u001b[0m\u001b[1;33m)\u001b[0m\u001b[1;33m\u001b[0m\u001b[0m\n\u001b[0;32m      4\u001b[0m \u001b[1;32mwhile\u001b[0m \u001b[1;32mTrue\u001b[0m\u001b[1;33m:\u001b[0m\u001b[1;33m\u001b[0m\u001b[0m\n\u001b[0;32m      5\u001b[0m     \u001b[0mret\u001b[0m\u001b[1;33m,\u001b[0m \u001b[0mphoto\u001b[0m\u001b[1;33m=\u001b[0m\u001b[0mx\u001b[0m\u001b[1;33m.\u001b[0m\u001b[0mread\u001b[0m\u001b[1;33m(\u001b[0m\u001b[1;33m)\u001b[0m\u001b[1;33m\u001b[0m\u001b[0m\n",
      "\u001b[1;31mModuleNotFoundError\u001b[0m: No module named 'cv2'"
     ]
    }
   ],
   "source": [
    "#image processing with scikit learn 2nd jan\n",
    "import cv2\n",
    "x=cv2.capture(0)\n",
    "while True:\n",
    "    ret, photo=x.read()\n",
    "\n",
    "    #drawing a rectangle with help of diagonal coordinates\n",
    "\n",
    "    #using pretrained network haar cascade for face detection\n",
    "    face_model=cv2.CascadeClassifier('frontface_default.xml')\n",
    "    #multi scale gives output as 2D as it detect all the faces and gives the coordinates of all the faces so first bracket \n",
    "    #tells us number of faces and inside bracket tells us the coordinates\n",
    "    \n",
    "    face_locate=face_model.detectMultiScale(photo)\n",
    "    #prints number of faces\n",
    "    len(face_locate)\n",
    "    if len(face_locate)==0:\n",
    "        x=cv2.VideoCapture(0)\n",
    "        while True:\n",
    "            stat,photo=x.read()\n",
    "            cv2.imshow('/tmp/photo.png',photo)\n",
    "            if cv2.waitKey(1)==13:\n",
    "                break\n",
    "        cv2.destroyAllWindows() \n",
    "        x.release()    \n",
    "#    first position of array is first face, first number is x1, second position is y1\n",
    "#    third position is length of x(length of photo) fourth is width of y. so x1+length=x2, and y1+width=y2  \n",
    "    else:\n",
    "        x1=face_locate[0][0]\n",
    "        y1=face_locate[0][1]\n",
    "        x2=face_locate[0][2]+x1\n",
    "        y2=face_locate[0][3]+y1\n",
    "        #drawing a rectangle with help of diagonal coordinates using rectangle function\n",
    "        cv2.rectangle(photo, (x1,y1), (x2,y2), (0,255,0),2)\n",
    "\n",
    "        #displaying the photo/video\n",
    "\n",
    "        cv2.imshow(\"hello ji\",photo)\n",
    "        if cv2.waitKey()==13:\n",
    "            break\n",
    "        cv2.destroyAllWindows()\n",
    "        x.release()"
   ]
  },
  {
   "cell_type": "code",
   "execution_count": null,
   "metadata": {},
   "outputs": [],
   "source": []
  }
 ],
 "metadata": {
  "kernelspec": {
   "display_name": "Python 3",
   "language": "python",
   "name": "python3"
  },
  "language_info": {
   "codemirror_mode": {
    "name": "ipython",
    "version": 3
   },
   "file_extension": ".py",
   "mimetype": "text/x-python",
   "name": "python",
   "nbconvert_exporter": "python",
   "pygments_lexer": "ipython3",
   "version": "3.7.0"
  }
 },
 "nbformat": 4,
 "nbformat_minor": 2
}
